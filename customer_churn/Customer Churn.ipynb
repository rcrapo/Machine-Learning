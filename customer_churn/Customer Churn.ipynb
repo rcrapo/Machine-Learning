{
 "cells": [
  {
   "cell_type": "markdown",
   "metadata": {},
   "source": [
    "### This dataset represents the behaviour of customers that have been using a subscription service and have either stayed on or left. The purpose of this project is build a model that will help us identify which behaviours will indicate a person's likelyhood of churning. From there the inferences can inform stakeholders in marketing and management about what they can do to better meet the needs of customers and reduce the overall churn rate."
   ]
  },
  {
   "cell_type": "code",
   "execution_count": 2,
   "metadata": {},
   "outputs": [],
   "source": [
    "import pandas as pd\n",
    "import numpy as np\n",
    "import matplotlib.pyplot as plt\n",
    "import seaborn as sb\n",
    "\n",
    "import warnings\n",
    "warnings.filterwarnings('ignore')"
   ]
  },
  {
   "cell_type": "code",
   "execution_count": 3,
   "metadata": {},
   "outputs": [],
   "source": [
    "dataset = pd.read_csv(\"churn_data.csv\")"
   ]
  },
  {
   "cell_type": "code",
   "execution_count": 4,
   "metadata": {},
   "outputs": [
    {
     "data": {
      "text/html": [
       "<div>\n",
       "<style scoped>\n",
       "    .dataframe tbody tr th:only-of-type {\n",
       "        vertical-align: middle;\n",
       "    }\n",
       "\n",
       "    .dataframe tbody tr th {\n",
       "        vertical-align: top;\n",
       "    }\n",
       "\n",
       "    .dataframe thead th {\n",
       "        text-align: right;\n",
       "    }\n",
       "</style>\n",
       "<table border=\"1\" class=\"dataframe\">\n",
       "  <thead>\n",
       "    <tr style=\"text-align: right;\">\n",
       "      <th></th>\n",
       "      <th>user</th>\n",
       "      <th>churn</th>\n",
       "      <th>age</th>\n",
       "      <th>housing</th>\n",
       "      <th>credit_score</th>\n",
       "      <th>deposits</th>\n",
       "      <th>withdrawal</th>\n",
       "      <th>purchases_partners</th>\n",
       "      <th>purchases</th>\n",
       "      <th>cc_taken</th>\n",
       "      <th>...</th>\n",
       "      <th>waiting_4_loan</th>\n",
       "      <th>cancelled_loan</th>\n",
       "      <th>received_loan</th>\n",
       "      <th>rejected_loan</th>\n",
       "      <th>zodiac_sign</th>\n",
       "      <th>left_for_two_month_plus</th>\n",
       "      <th>left_for_one_month</th>\n",
       "      <th>rewards_earned</th>\n",
       "      <th>reward_rate</th>\n",
       "      <th>is_referred</th>\n",
       "    </tr>\n",
       "  </thead>\n",
       "  <tbody>\n",
       "    <tr>\n",
       "      <td>0</td>\n",
       "      <td>55409</td>\n",
       "      <td>0</td>\n",
       "      <td>37.0</td>\n",
       "      <td>na</td>\n",
       "      <td>NaN</td>\n",
       "      <td>0</td>\n",
       "      <td>0</td>\n",
       "      <td>0</td>\n",
       "      <td>0</td>\n",
       "      <td>0</td>\n",
       "      <td>...</td>\n",
       "      <td>0</td>\n",
       "      <td>0</td>\n",
       "      <td>0</td>\n",
       "      <td>0</td>\n",
       "      <td>Leo</td>\n",
       "      <td>1</td>\n",
       "      <td>0</td>\n",
       "      <td>NaN</td>\n",
       "      <td>0.00</td>\n",
       "      <td>0</td>\n",
       "    </tr>\n",
       "    <tr>\n",
       "      <td>1</td>\n",
       "      <td>23547</td>\n",
       "      <td>0</td>\n",
       "      <td>28.0</td>\n",
       "      <td>R</td>\n",
       "      <td>486.0</td>\n",
       "      <td>0</td>\n",
       "      <td>0</td>\n",
       "      <td>1</td>\n",
       "      <td>0</td>\n",
       "      <td>0</td>\n",
       "      <td>...</td>\n",
       "      <td>0</td>\n",
       "      <td>0</td>\n",
       "      <td>0</td>\n",
       "      <td>0</td>\n",
       "      <td>Leo</td>\n",
       "      <td>0</td>\n",
       "      <td>0</td>\n",
       "      <td>44.0</td>\n",
       "      <td>1.47</td>\n",
       "      <td>1</td>\n",
       "    </tr>\n",
       "    <tr>\n",
       "      <td>2</td>\n",
       "      <td>58313</td>\n",
       "      <td>0</td>\n",
       "      <td>35.0</td>\n",
       "      <td>R</td>\n",
       "      <td>561.0</td>\n",
       "      <td>47</td>\n",
       "      <td>2</td>\n",
       "      <td>86</td>\n",
       "      <td>47</td>\n",
       "      <td>0</td>\n",
       "      <td>...</td>\n",
       "      <td>0</td>\n",
       "      <td>0</td>\n",
       "      <td>0</td>\n",
       "      <td>0</td>\n",
       "      <td>Capricorn</td>\n",
       "      <td>1</td>\n",
       "      <td>0</td>\n",
       "      <td>65.0</td>\n",
       "      <td>2.17</td>\n",
       "      <td>0</td>\n",
       "    </tr>\n",
       "    <tr>\n",
       "      <td>3</td>\n",
       "      <td>8095</td>\n",
       "      <td>0</td>\n",
       "      <td>26.0</td>\n",
       "      <td>R</td>\n",
       "      <td>567.0</td>\n",
       "      <td>26</td>\n",
       "      <td>3</td>\n",
       "      <td>38</td>\n",
       "      <td>25</td>\n",
       "      <td>0</td>\n",
       "      <td>...</td>\n",
       "      <td>0</td>\n",
       "      <td>0</td>\n",
       "      <td>0</td>\n",
       "      <td>0</td>\n",
       "      <td>Capricorn</td>\n",
       "      <td>0</td>\n",
       "      <td>0</td>\n",
       "      <td>33.0</td>\n",
       "      <td>1.10</td>\n",
       "      <td>1</td>\n",
       "    </tr>\n",
       "    <tr>\n",
       "      <td>4</td>\n",
       "      <td>61353</td>\n",
       "      <td>1</td>\n",
       "      <td>27.0</td>\n",
       "      <td>na</td>\n",
       "      <td>NaN</td>\n",
       "      <td>0</td>\n",
       "      <td>0</td>\n",
       "      <td>2</td>\n",
       "      <td>0</td>\n",
       "      <td>0</td>\n",
       "      <td>...</td>\n",
       "      <td>0</td>\n",
       "      <td>0</td>\n",
       "      <td>0</td>\n",
       "      <td>0</td>\n",
       "      <td>Aries</td>\n",
       "      <td>1</td>\n",
       "      <td>0</td>\n",
       "      <td>1.0</td>\n",
       "      <td>0.03</td>\n",
       "      <td>0</td>\n",
       "    </tr>\n",
       "  </tbody>\n",
       "</table>\n",
       "<p>5 rows × 31 columns</p>\n",
       "</div>"
      ],
      "text/plain": [
       "    user  churn   age housing  credit_score  deposits  withdrawal  \\\n",
       "0  55409      0  37.0      na           NaN         0           0   \n",
       "1  23547      0  28.0       R         486.0         0           0   \n",
       "2  58313      0  35.0       R         561.0        47           2   \n",
       "3   8095      0  26.0       R         567.0        26           3   \n",
       "4  61353      1  27.0      na           NaN         0           0   \n",
       "\n",
       "   purchases_partners  purchases  cc_taken  ...  waiting_4_loan  \\\n",
       "0                   0          0         0  ...               0   \n",
       "1                   1          0         0  ...               0   \n",
       "2                  86         47         0  ...               0   \n",
       "3                  38         25         0  ...               0   \n",
       "4                   2          0         0  ...               0   \n",
       "\n",
       "   cancelled_loan  received_loan  rejected_loan  zodiac_sign  \\\n",
       "0               0              0              0          Leo   \n",
       "1               0              0              0          Leo   \n",
       "2               0              0              0    Capricorn   \n",
       "3               0              0              0    Capricorn   \n",
       "4               0              0              0        Aries   \n",
       "\n",
       "   left_for_two_month_plus  left_for_one_month  rewards_earned  reward_rate  \\\n",
       "0                        1                   0             NaN         0.00   \n",
       "1                        0                   0            44.0         1.47   \n",
       "2                        1                   0            65.0         2.17   \n",
       "3                        0                   0            33.0         1.10   \n",
       "4                        1                   0             1.0         0.03   \n",
       "\n",
       "   is_referred  \n",
       "0            0  \n",
       "1            1  \n",
       "2            0  \n",
       "3            1  \n",
       "4            0  \n",
       "\n",
       "[5 rows x 31 columns]"
      ]
     },
     "execution_count": 4,
     "metadata": {},
     "output_type": "execute_result"
    }
   ],
   "source": [
    "dataset.head()"
   ]
  },
  {
   "cell_type": "code",
   "execution_count": 5,
   "metadata": {},
   "outputs": [
    {
     "data": {
      "text/html": [
       "<div>\n",
       "<style scoped>\n",
       "    .dataframe tbody tr th:only-of-type {\n",
       "        vertical-align: middle;\n",
       "    }\n",
       "\n",
       "    .dataframe tbody tr th {\n",
       "        vertical-align: top;\n",
       "    }\n",
       "\n",
       "    .dataframe thead th {\n",
       "        text-align: right;\n",
       "    }\n",
       "</style>\n",
       "<table border=\"1\" class=\"dataframe\">\n",
       "  <thead>\n",
       "    <tr style=\"text-align: right;\">\n",
       "      <th></th>\n",
       "      <th>user</th>\n",
       "      <th>churn</th>\n",
       "      <th>age</th>\n",
       "      <th>credit_score</th>\n",
       "      <th>deposits</th>\n",
       "      <th>withdrawal</th>\n",
       "      <th>purchases_partners</th>\n",
       "      <th>purchases</th>\n",
       "      <th>cc_taken</th>\n",
       "      <th>cc_recommended</th>\n",
       "      <th>...</th>\n",
       "      <th>registered_phones</th>\n",
       "      <th>waiting_4_loan</th>\n",
       "      <th>cancelled_loan</th>\n",
       "      <th>received_loan</th>\n",
       "      <th>rejected_loan</th>\n",
       "      <th>left_for_two_month_plus</th>\n",
       "      <th>left_for_one_month</th>\n",
       "      <th>rewards_earned</th>\n",
       "      <th>reward_rate</th>\n",
       "      <th>is_referred</th>\n",
       "    </tr>\n",
       "  </thead>\n",
       "  <tbody>\n",
       "    <tr>\n",
       "      <td>count</td>\n",
       "      <td>27000.000000</td>\n",
       "      <td>27000.000000</td>\n",
       "      <td>26996.000000</td>\n",
       "      <td>18969.000000</td>\n",
       "      <td>27000.000000</td>\n",
       "      <td>27000.000000</td>\n",
       "      <td>27000.000000</td>\n",
       "      <td>27000.000000</td>\n",
       "      <td>27000.000000</td>\n",
       "      <td>27000.000000</td>\n",
       "      <td>...</td>\n",
       "      <td>27000.000000</td>\n",
       "      <td>27000.000000</td>\n",
       "      <td>27000.000000</td>\n",
       "      <td>27000.000000</td>\n",
       "      <td>27000.000000</td>\n",
       "      <td>27000.000000</td>\n",
       "      <td>27000.000000</td>\n",
       "      <td>23773.000000</td>\n",
       "      <td>27000.000000</td>\n",
       "      <td>27000.000000</td>\n",
       "    </tr>\n",
       "    <tr>\n",
       "      <td>mean</td>\n",
       "      <td>35422.702519</td>\n",
       "      <td>0.413852</td>\n",
       "      <td>32.219921</td>\n",
       "      <td>542.944225</td>\n",
       "      <td>3.341556</td>\n",
       "      <td>0.307000</td>\n",
       "      <td>28.062519</td>\n",
       "      <td>3.273481</td>\n",
       "      <td>0.073778</td>\n",
       "      <td>92.625778</td>\n",
       "      <td>...</td>\n",
       "      <td>0.420926</td>\n",
       "      <td>0.001296</td>\n",
       "      <td>0.018815</td>\n",
       "      <td>0.018185</td>\n",
       "      <td>0.004889</td>\n",
       "      <td>0.173444</td>\n",
       "      <td>0.018074</td>\n",
       "      <td>29.110125</td>\n",
       "      <td>0.907684</td>\n",
       "      <td>0.318037</td>\n",
       "    </tr>\n",
       "    <tr>\n",
       "      <td>std</td>\n",
       "      <td>20321.006678</td>\n",
       "      <td>0.492532</td>\n",
       "      <td>9.964838</td>\n",
       "      <td>61.059315</td>\n",
       "      <td>9.131406</td>\n",
       "      <td>1.055416</td>\n",
       "      <td>42.219686</td>\n",
       "      <td>8.953077</td>\n",
       "      <td>0.437299</td>\n",
       "      <td>88.869343</td>\n",
       "      <td>...</td>\n",
       "      <td>0.912831</td>\n",
       "      <td>0.035981</td>\n",
       "      <td>0.135873</td>\n",
       "      <td>0.133623</td>\n",
       "      <td>0.069751</td>\n",
       "      <td>0.378638</td>\n",
       "      <td>0.133222</td>\n",
       "      <td>21.973478</td>\n",
       "      <td>0.752016</td>\n",
       "      <td>0.465723</td>\n",
       "    </tr>\n",
       "    <tr>\n",
       "      <td>min</td>\n",
       "      <td>1.000000</td>\n",
       "      <td>0.000000</td>\n",
       "      <td>17.000000</td>\n",
       "      <td>2.000000</td>\n",
       "      <td>0.000000</td>\n",
       "      <td>0.000000</td>\n",
       "      <td>0.000000</td>\n",
       "      <td>0.000000</td>\n",
       "      <td>0.000000</td>\n",
       "      <td>0.000000</td>\n",
       "      <td>...</td>\n",
       "      <td>0.000000</td>\n",
       "      <td>0.000000</td>\n",
       "      <td>0.000000</td>\n",
       "      <td>0.000000</td>\n",
       "      <td>0.000000</td>\n",
       "      <td>0.000000</td>\n",
       "      <td>0.000000</td>\n",
       "      <td>1.000000</td>\n",
       "      <td>0.000000</td>\n",
       "      <td>0.000000</td>\n",
       "    </tr>\n",
       "    <tr>\n",
       "      <td>25%</td>\n",
       "      <td>17810.500000</td>\n",
       "      <td>0.000000</td>\n",
       "      <td>25.000000</td>\n",
       "      <td>507.000000</td>\n",
       "      <td>0.000000</td>\n",
       "      <td>0.000000</td>\n",
       "      <td>0.000000</td>\n",
       "      <td>0.000000</td>\n",
       "      <td>0.000000</td>\n",
       "      <td>10.000000</td>\n",
       "      <td>...</td>\n",
       "      <td>0.000000</td>\n",
       "      <td>0.000000</td>\n",
       "      <td>0.000000</td>\n",
       "      <td>0.000000</td>\n",
       "      <td>0.000000</td>\n",
       "      <td>0.000000</td>\n",
       "      <td>0.000000</td>\n",
       "      <td>9.000000</td>\n",
       "      <td>0.200000</td>\n",
       "      <td>0.000000</td>\n",
       "    </tr>\n",
       "    <tr>\n",
       "      <td>50%</td>\n",
       "      <td>35749.000000</td>\n",
       "      <td>0.000000</td>\n",
       "      <td>30.000000</td>\n",
       "      <td>542.000000</td>\n",
       "      <td>0.000000</td>\n",
       "      <td>0.000000</td>\n",
       "      <td>9.000000</td>\n",
       "      <td>0.000000</td>\n",
       "      <td>0.000000</td>\n",
       "      <td>65.000000</td>\n",
       "      <td>...</td>\n",
       "      <td>0.000000</td>\n",
       "      <td>0.000000</td>\n",
       "      <td>0.000000</td>\n",
       "      <td>0.000000</td>\n",
       "      <td>0.000000</td>\n",
       "      <td>0.000000</td>\n",
       "      <td>0.000000</td>\n",
       "      <td>25.000000</td>\n",
       "      <td>0.780000</td>\n",
       "      <td>0.000000</td>\n",
       "    </tr>\n",
       "    <tr>\n",
       "      <td>75%</td>\n",
       "      <td>53244.250000</td>\n",
       "      <td>1.000000</td>\n",
       "      <td>37.000000</td>\n",
       "      <td>578.000000</td>\n",
       "      <td>1.000000</td>\n",
       "      <td>0.000000</td>\n",
       "      <td>43.000000</td>\n",
       "      <td>1.000000</td>\n",
       "      <td>0.000000</td>\n",
       "      <td>164.000000</td>\n",
       "      <td>...</td>\n",
       "      <td>0.000000</td>\n",
       "      <td>0.000000</td>\n",
       "      <td>0.000000</td>\n",
       "      <td>0.000000</td>\n",
       "      <td>0.000000</td>\n",
       "      <td>0.000000</td>\n",
       "      <td>0.000000</td>\n",
       "      <td>48.000000</td>\n",
       "      <td>1.530000</td>\n",
       "      <td>1.000000</td>\n",
       "    </tr>\n",
       "    <tr>\n",
       "      <td>max</td>\n",
       "      <td>69658.000000</td>\n",
       "      <td>1.000000</td>\n",
       "      <td>91.000000</td>\n",
       "      <td>838.000000</td>\n",
       "      <td>65.000000</td>\n",
       "      <td>29.000000</td>\n",
       "      <td>1067.000000</td>\n",
       "      <td>63.000000</td>\n",
       "      <td>29.000000</td>\n",
       "      <td>522.000000</td>\n",
       "      <td>...</td>\n",
       "      <td>5.000000</td>\n",
       "      <td>1.000000</td>\n",
       "      <td>1.000000</td>\n",
       "      <td>1.000000</td>\n",
       "      <td>1.000000</td>\n",
       "      <td>1.000000</td>\n",
       "      <td>1.000000</td>\n",
       "      <td>114.000000</td>\n",
       "      <td>4.000000</td>\n",
       "      <td>1.000000</td>\n",
       "    </tr>\n",
       "  </tbody>\n",
       "</table>\n",
       "<p>8 rows × 28 columns</p>\n",
       "</div>"
      ],
      "text/plain": [
       "               user         churn           age  credit_score      deposits  \\\n",
       "count  27000.000000  27000.000000  26996.000000  18969.000000  27000.000000   \n",
       "mean   35422.702519      0.413852     32.219921    542.944225      3.341556   \n",
       "std    20321.006678      0.492532      9.964838     61.059315      9.131406   \n",
       "min        1.000000      0.000000     17.000000      2.000000      0.000000   \n",
       "25%    17810.500000      0.000000     25.000000    507.000000      0.000000   \n",
       "50%    35749.000000      0.000000     30.000000    542.000000      0.000000   \n",
       "75%    53244.250000      1.000000     37.000000    578.000000      1.000000   \n",
       "max    69658.000000      1.000000     91.000000    838.000000     65.000000   \n",
       "\n",
       "         withdrawal  purchases_partners     purchases      cc_taken  \\\n",
       "count  27000.000000        27000.000000  27000.000000  27000.000000   \n",
       "mean       0.307000           28.062519      3.273481      0.073778   \n",
       "std        1.055416           42.219686      8.953077      0.437299   \n",
       "min        0.000000            0.000000      0.000000      0.000000   \n",
       "25%        0.000000            0.000000      0.000000      0.000000   \n",
       "50%        0.000000            9.000000      0.000000      0.000000   \n",
       "75%        0.000000           43.000000      1.000000      0.000000   \n",
       "max       29.000000         1067.000000     63.000000     29.000000   \n",
       "\n",
       "       cc_recommended  ...  registered_phones  waiting_4_loan  cancelled_loan  \\\n",
       "count    27000.000000  ...       27000.000000    27000.000000    27000.000000   \n",
       "mean        92.625778  ...           0.420926        0.001296        0.018815   \n",
       "std         88.869343  ...           0.912831        0.035981        0.135873   \n",
       "min          0.000000  ...           0.000000        0.000000        0.000000   \n",
       "25%         10.000000  ...           0.000000        0.000000        0.000000   \n",
       "50%         65.000000  ...           0.000000        0.000000        0.000000   \n",
       "75%        164.000000  ...           0.000000        0.000000        0.000000   \n",
       "max        522.000000  ...           5.000000        1.000000        1.000000   \n",
       "\n",
       "       received_loan  rejected_loan  left_for_two_month_plus  \\\n",
       "count   27000.000000   27000.000000             27000.000000   \n",
       "mean        0.018185       0.004889                 0.173444   \n",
       "std         0.133623       0.069751                 0.378638   \n",
       "min         0.000000       0.000000                 0.000000   \n",
       "25%         0.000000       0.000000                 0.000000   \n",
       "50%         0.000000       0.000000                 0.000000   \n",
       "75%         0.000000       0.000000                 0.000000   \n",
       "max         1.000000       1.000000                 1.000000   \n",
       "\n",
       "       left_for_one_month  rewards_earned   reward_rate   is_referred  \n",
       "count        27000.000000    23773.000000  27000.000000  27000.000000  \n",
       "mean             0.018074       29.110125      0.907684      0.318037  \n",
       "std              0.133222       21.973478      0.752016      0.465723  \n",
       "min              0.000000        1.000000      0.000000      0.000000  \n",
       "25%              0.000000        9.000000      0.200000      0.000000  \n",
       "50%              0.000000       25.000000      0.780000      0.000000  \n",
       "75%              0.000000       48.000000      1.530000      1.000000  \n",
       "max              1.000000      114.000000      4.000000      1.000000  \n",
       "\n",
       "[8 rows x 28 columns]"
      ]
     },
     "execution_count": 5,
     "metadata": {},
     "output_type": "execute_result"
    }
   ],
   "source": [
    "dataset.describe()"
   ]
  },
  {
   "cell_type": "code",
   "execution_count": 6,
   "metadata": {},
   "outputs": [
    {
     "data": {
      "text/plain": [
       "27000"
      ]
     },
     "execution_count": 6,
     "metadata": {},
     "output_type": "execute_result"
    }
   ],
   "source": [
    "#easy way of seeing how many rows/records are in a dataframe\n",
    "dataset.shape[0]"
   ]
  },
  {
   "cell_type": "code",
   "execution_count": 7,
   "metadata": {},
   "outputs": [
    {
     "data": {
      "text/plain": [
       "user                        0.00\n",
       "churn                       0.00\n",
       "age                         0.01\n",
       "housing                     0.00\n",
       "credit_score               29.74\n",
       "deposits                    0.00\n",
       "withdrawal                  0.00\n",
       "purchases_partners          0.00\n",
       "purchases                   0.00\n",
       "cc_taken                    0.00\n",
       "cc_recommended              0.00\n",
       "cc_disliked                 0.00\n",
       "cc_liked                    0.00\n",
       "cc_application_begin        0.00\n",
       "app_downloaded              0.00\n",
       "web_user                    0.00\n",
       "app_web_user                0.00\n",
       "ios_user                    0.00\n",
       "android_user                0.00\n",
       "registered_phones           0.00\n",
       "payment_type                0.00\n",
       "waiting_4_loan              0.00\n",
       "cancelled_loan              0.00\n",
       "received_loan               0.00\n",
       "rejected_loan               0.00\n",
       "zodiac_sign                 0.00\n",
       "left_for_two_month_plus     0.00\n",
       "left_for_one_month          0.00\n",
       "rewards_earned             11.95\n",
       "reward_rate                 0.00\n",
       "is_referred                 0.00\n",
       "dtype: float64"
      ]
     },
     "execution_count": 7,
     "metadata": {},
     "output_type": "execute_result"
    }
   ],
   "source": [
    "# this can tell us what percent of the data in each column are null values\n",
    "round((dataset.isna().sum() /27000) * 100, 2)"
   ]
  },
  {
   "cell_type": "markdown",
   "metadata": {},
   "source": [
    "Depending on the amount of null values that are found, I can delete records that are do not have enough composite data to provide a reliable output. If the null values are concentrated in certain columns it may be prudent to delete those columns, excluding them from the final model."
   ]
  },
  {
   "cell_type": "code",
   "execution_count": 8,
   "metadata": {},
   "outputs": [],
   "source": [
    "#this sytax deletes all records that have a null value in the age column\n",
    "# there are four null values in \"age\" and thus four full records will be deleted\n",
    "dataset = dataset[pd.notnull(dataset[\"age\"])]"
   ]
  },
  {
   "cell_type": "code",
   "execution_count": 9,
   "metadata": {},
   "outputs": [],
   "source": [
    "#this drops the columns 'credit_score' and 'rewards_earned' from the dataframe\n",
    "dataset = dataset.drop(columns= ['credit_score', 'rewards_earned'])"
   ]
  },
  {
   "cell_type": "code",
   "execution_count": 10,
   "metadata": {},
   "outputs": [],
   "source": [
    "dataset2 = dataset.drop(columns= ['user', 'churn'])"
   ]
  },
  {
   "cell_type": "code",
   "execution_count": 11,
   "metadata": {},
   "outputs": [
    {
     "data": {
      "image/png": "[encoded data removed]",
      "text/plain": [
       "<Figure size 1080x1584 with 27 Axes>"
      ]
     },
     "metadata": {
      "needs_background": "light"
     },
     "output_type": "display_data"
    }
   ],
   "source": [
    "#this sub plot can give a general idea of the distribution of the data\n",
    "\n",
    "fig = plt.figure(figsize= (15, 22))\n",
    "plt.suptitle(\"Histograms of Numerical Columns\", fontsize=20)\n",
    "for i in range(1, dataset2.shape[1] + 1):\n",
    "    plt.subplot( 6, 5, i)\n",
    "    f = plt.gca()\n",
    "    f.axes.get_yaxis().set_visible(False)\n",
    "    \n",
    "    vals = np.size(dataset2.iloc[:, i -1].unique())\n",
    "    \n",
    "    plt.hist(dataset2.iloc[:, i - 1], bins=vals)\n",
    "plt.tight_layout(rect= [0, 0.03, 1, 0.95])"
   ]
  },
  {
   "cell_type": "code",
   "execution_count": 12,
   "metadata": {},
   "outputs": [],
   "source": [
    "#explore the binary columns in this dataset. I will create a new dataframe with just binary values\n",
    "dataset2 = dataset[['housing', 'is_referred', 'app_downloaded',\n",
    "                    'web_user', 'app_web_user', 'ios_user', \n",
    "                    'android_user', 'registered_phones', 'payment_type',\n",
    "                    'waiting_4_loan', 'cancelled_loan', 'received_loan', 'rejected_loan', 'zodiac_sign',\n",
    "                    'left_for_two_month_plus', 'left_for_one_month', 'is_referred']]"
   ]
  },
  {
   "cell_type": "code",
   "execution_count": 13,
   "metadata": {},
   "outputs": [
    {
     "data": {
      "image/png": "[encoded data removed]",
      "text/plain": [
       "<Figure size 1080x864 with 17 Axes>"
      ]
     },
     "metadata": {},
     "output_type": "display_data"
    }
   ],
   "source": [
    "#this code will create pie charts for each binary/categorical column to measure the proportion of each value\n",
    "fig = plt.figure(figsize= (15, 12))\n",
    "plt.suptitle(\"Pie Chart Distributions\", fontsize=20)\n",
    "for i in range(1, dataset2.shape[1] + 1):\n",
    "    plt.subplot(6, 3, i)\n",
    "    f = plt.gca()\n",
    "    f.axes.get_yaxis().set_visible(False)\n",
    "    f.set_title(dataset2.columns.values[i - 1])\n",
    "    values = dataset2.iloc[:, i -1].value_counts(normalize = True).values\n",
    "    index = dataset2.iloc[:, i -1].value_counts(normalize = True).index\n",
    "    \n",
    "    plt.pie(values, labels = index, autopct= '%1.1f%%')\n",
    "    plt.axis('equal')\n",
    "plt.tight_layout(rect= [0, 0.03, 1, 0.95])"
   ]
  },
  {
   "cell_type": "code",
   "execution_count": 14,
   "metadata": {},
   "outputs": [
    {
     "data": {
      "text/plain": [
       "0    27\n",
       "1     8\n",
       "Name: churn, dtype: int64"
      ]
     },
     "execution_count": 14,
     "metadata": {},
     "output_type": "execute_result"
    }
   ],
   "source": [
    "# this sytax asks to return the value counts for churn where waiting_4_loan is equal to 1\n",
    "dataset[dataset2.waiting_4_loan == 1].churn.value_counts()"
   ]
  },
  {
   "cell_type": "code",
   "execution_count": 15,
   "metadata": {},
   "outputs": [
    {
     "data": {
      "text/plain": [
       "1    274\n",
       "0    234\n",
       "Name: churn, dtype: int64"
      ]
     },
     "execution_count": 15,
     "metadata": {},
     "output_type": "execute_result"
    }
   ],
   "source": [
    "#for this I want the same thing but for where cancelled_loan values are equal to 1\n",
    "dataset[dataset2.cancelled_loan == 1].churn.value_counts()"
   ]
  },
  {
   "cell_type": "code",
   "execution_count": 16,
   "metadata": {},
   "outputs": [
    {
     "data": {
      "text/plain": [
       "1    292\n",
       "0    199\n",
       "Name: churn, dtype: int64"
      ]
     },
     "execution_count": 16,
     "metadata": {},
     "output_type": "execute_result"
    }
   ],
   "source": [
    "dataset[dataset2.received_loan == 1].churn.value_counts()"
   ]
  },
  {
   "cell_type": "code",
   "execution_count": 17,
   "metadata": {},
   "outputs": [
    {
     "data": {
      "text/plain": [
       "1    107\n",
       "0     25\n",
       "Name: churn, dtype: int64"
      ]
     },
     "execution_count": 17,
     "metadata": {},
     "output_type": "execute_result"
    }
   ],
   "source": [
    "dataset[dataset2.rejected_loan == 1].churn.value_counts()"
   ]
  },
  {
   "cell_type": "code",
   "execution_count": 18,
   "metadata": {},
   "outputs": [
    {
     "data": {
      "text/plain": [
       "1    266\n",
       "0    222\n",
       "Name: churn, dtype: int64"
      ]
     },
     "execution_count": 18,
     "metadata": {},
     "output_type": "execute_result"
    }
   ],
   "source": [
    "dataset[dataset2.left_for_one_month == 1].churn.value_counts()"
   ]
  },
  {
   "cell_type": "markdown",
   "metadata": {},
   "source": [
    "This exploratory analysis has shown which categories are uneven and how uneven they are. This breakdown also shows whether columns that have a small level of uneveness contain both values of the target variable.\n",
    "\n",
    "I can now look at the correlation between the the independent variables and the target variables."
   ]
  },
  {
   "cell_type": "code",
   "execution_count": 19,
   "metadata": {},
   "outputs": [
    {
     "data": {
      "text/plain": [
       "<matplotlib.axes._subplots.AxesSubplot at 0x176c2bb2630>"
      ]
     },
     "execution_count": 19,
     "metadata": {},
     "output_type": "execute_result"
    },
    {
     "data": {
      "image/png": "[encoded data removed]",
      "text/plain": [
       "<Figure size 1440x720 with 1 Axes>"
      ]
     },
     "metadata": {
      "needs_background": "light"
     },
     "output_type": "display_data"
    }
   ],
   "source": [
    "# drop all the columns that do not have meaningful numeric or categorical data \n",
    "# and plot the remaining columns in relation to the correlation of the target variable\n",
    "\n",
    "dataset.drop(columns = ['churn', 'user', 'housing',\n",
    "                        'payment_type', 'zodiac_sign']).corrwith(dataset.churn).plot.bar(\n",
    "        figsize = (20, 10), title = 'Correlation with the Target Variable', fontsize= 15,\n",
    "        rot = 45, grid = True)"
   ]
  },
  {
   "cell_type": "markdown",
   "metadata": {},
   "source": [
    "The above chart gives some interesting insight into the related behaviours of the users. There are negative correlations with churn rate with the first five independent variables. There is also an interesting positive correlation between people that took credit cards with the comapny and churn rate. This could potentially mean that people might be having complaints with the credit card rates or policies. It's important to investigate trends like this not only in the data, but also to follow up with customers to see if they are indeed having problems with the credit card.\n",
    "\n",
    "It is important to keep in mind that much of these correlations are small, but the direction of the correlation may be able to give us a sense of what is going in in the data.\n",
    "\n",
    "As a side note it's very important to know ahead of time what each columns stands for in the real world. Some columns may be inutive but others not so much."
   ]
  },
  {
   "cell_type": "markdown",
   "metadata": {},
   "source": [
    "In addition to finding the correlations between the independent variables and the target variable, it is important to look at the independent variables themselves and see if there are correlations among them. Dependencies in between the features can negatively influence the model, so it's a good idea to check."
   ]
  },
  {
   "cell_type": "code",
   "execution_count": 20,
   "metadata": {},
   "outputs": [
    {
     "data": {
      "text/plain": [
       "<matplotlib.axes._subplots.AxesSubplot at 0x176c4eda780>"
      ]
     },
     "execution_count": 20,
     "metadata": {},
     "output_type": "execute_result"
    },
    {
     "data": {
      "image/png": "[encoded data removed]",
      "text/plain": [
       "<Figure size 1296x1080 with 2 Axes>"
      ]
     },
     "metadata": {},
     "output_type": "display_data"
    }
   ],
   "source": [
    "#setting up the correlation matrix styling\n",
    "sb.set(style= 'white')\n",
    "\n",
    "#creating the correlation matrix\n",
    "corr = dataset.drop(columns = ['user', 'churn']).corr()\n",
    "\n",
    "#creating a mask for the upper triangle of the correlation matrix\n",
    "mask = np.zeros_like(corr, dtype= np.bool)\n",
    "mask[np.triu_indices_from(mask)] = True\n",
    "\n",
    "#setting up the matplot lib figure\n",
    "f, ax = plt.subplots(figsize=(18, 15))\n",
    "\n",
    "# setting up a color scheme that is color diverging\n",
    "cmap = sb.diverging_palette(120, 10, as_cmap=True)\n",
    "\n",
    "#putting it all together. Drawing the heatmap with the mask and the correct apsect ratio\n",
    "sb.heatmap(corr, mask= mask, cmap= cmap, vmax= 0.3, center=0,\n",
    "           square= True, linewidths= 0.5, cbar_kws= {\"shrink\": 0.5})"
   ]
  },
  {
   "cell_type": "markdown",
   "metadata": {},
   "source": [
    "Looking at this correlation matrix, it is evident that there is strong negative correlation between two variables shown by the green square. This makes sense as these categories are generally mutually exclusive (those that have iphones generally don't also have androids).\n",
    "\n",
    "There also appears to be strong positive correlations with 'reward_rate', 'is_referred', and 'cc_appliction_begin' across several other variables. However, it's important to note that none of the positive correlations in the matrix reach above approximately 0.25. This means that the correlations are not high enough to significantly affect the model later on.\n",
    "\n",
    "Additinally, it is important to remember that the variable 'app_web_user' is a variable created from two other variables and thus is inherently a variable that will be correlated with those two variables. This means that we have t exclude this variable from the model. Again this is one reason why we have to be aware of what each colmun means in real life before including it into the model\n"
   ]
  },
  {
   "cell_type": "code",
   "execution_count": 21,
   "metadata": {},
   "outputs": [],
   "source": [
    "dataset = dataset.drop(columns= [\"app_web_user\"])"
   ]
  },
  {
   "cell_type": "code",
   "execution_count": 22,
   "metadata": {},
   "outputs": [],
   "source": [
    "dataset.to_csv(\"cleaned_churn_data.csv\", index= False)"
   ]
  },
  {
   "cell_type": "code",
   "execution_count": 23,
   "metadata": {},
   "outputs": [],
   "source": [
    "dataset = pd.read_csv('cleaned_churn_data.csv')"
   ]
  },
  {
   "cell_type": "code",
   "execution_count": 24,
   "metadata": {},
   "outputs": [],
   "source": [
    "user_identifier = dataset['user']\n",
    "dataset = dataset.drop(columns = ['user'])"
   ]
  },
  {
   "cell_type": "code",
   "execution_count": 25,
   "metadata": {},
   "outputs": [],
   "source": [
    "# we need to apply one-hot encoding to our categorical variables\n",
    "dataset.housing.value_counts()\n",
    "dataset = pd.get_dummies(dataset)"
   ]
  },
  {
   "cell_type": "code",
   "execution_count": 26,
   "metadata": {},
   "outputs": [
    {
     "data": {
      "text/plain": [
       "Index(['churn', 'age', 'deposits', 'withdrawal', 'purchases_partners',\n",
       "       'purchases', 'cc_taken', 'cc_recommended', 'cc_disliked', 'cc_liked',\n",
       "       'cc_application_begin', 'app_downloaded', 'web_user', 'ios_user',\n",
       "       'android_user', 'registered_phones', 'waiting_4_loan', 'cancelled_loan',\n",
       "       'received_loan', 'rejected_loan', 'left_for_two_month_plus',\n",
       "       'left_for_one_month', 'reward_rate', 'is_referred', 'housing_O',\n",
       "       'housing_R', 'housing_na', 'payment_type_Bi-Weekly',\n",
       "       'payment_type_Monthly', 'payment_type_Semi-Monthly',\n",
       "       'payment_type_Weekly', 'payment_type_na', 'zodiac_sign_Aquarius',\n",
       "       'zodiac_sign_Aries', 'zodiac_sign_Cancer', 'zodiac_sign_Capricorn',\n",
       "       'zodiac_sign_Gemini', 'zodiac_sign_Leo', 'zodiac_sign_Libra',\n",
       "       'zodiac_sign_Pisces', 'zodiac_sign_Sagittarius', 'zodiac_sign_Scorpio',\n",
       "       'zodiac_sign_Taurus', 'zodiac_sign_Virgo', 'zodiac_sign_na'],\n",
       "      dtype='object')"
      ]
     },
     "execution_count": 26,
     "metadata": {},
     "output_type": "execute_result"
    }
   ],
   "source": [
    "dataset.columns"
   ]
  },
  {
   "cell_type": "code",
   "execution_count": 27,
   "metadata": {},
   "outputs": [],
   "source": [
    "#looking at the columns we see that we have new columns for each category\n",
    "#we can't have correlated columns that are mutually exclusive \n",
    "#and thus highly correlated so we need to further exclude csome columns from the model\n",
    "\n",
    "dataset = dataset.drop(columns = ['housing_na', 'zodiac_sign_na', 'payment_type_na'])"
   ]
  },
  {
   "cell_type": "code",
   "execution_count": 28,
   "metadata": {},
   "outputs": [],
   "source": [
    "#now to split the data for training and testing\n",
    "from sklearn.model_selection import train_test_split\n",
    "\n",
    "X_train, X_test, y_train, y_test = train_test_split(dataset.drop(columns= ['churn']), \n",
    "                                                    dataset['churn'], test_size=0.2, random_state=0)"
   ]
  },
  {
   "cell_type": "code",
   "execution_count": 29,
   "metadata": {},
   "outputs": [
    {
     "data": {
      "text/plain": [
       "0    12656\n",
       "1     8940\n",
       "Name: churn, dtype: int64"
      ]
     },
     "execution_count": 29,
     "metadata": {},
     "output_type": "execute_result"
    }
   ],
   "source": [
    "y_train.value_counts()"
   ]
  },
  {
   "cell_type": "code",
   "execution_count": 30,
   "metadata": {},
   "outputs": [
    {
     "data": {
      "text/plain": [
       "0.5860344508242267"
      ]
     },
     "execution_count": 30,
     "metadata": {},
     "output_type": "execute_result"
    }
   ],
   "source": [
    "12656/ (12656+ 8940)"
   ]
  },
  {
   "cell_type": "markdown",
   "metadata": {},
   "source": [
    "We see a problem with the value counts of the target variable. because there is a lopsided distribution with about 60% of the values being 0 (no churn). If we were to create a naive predictor that simply labeled every record as 0 we would still get a 60% accuracy. This is bad because even a terrible model seems like it's doing well when it's not.\n",
    "\n",
    "To solve this problem we have to balance the data. Balancing the data will help us to know if the model is actually performing as it should or if the data is simply off"
   ]
  },
  {
   "cell_type": "code",
   "execution_count": 31,
   "metadata": {},
   "outputs": [],
   "source": [
    "import random\n",
    "\n",
    "pos_index = y_train[y_train.values == 1].index\n",
    "neg_index = y_train[y_train.values == 0].index\n",
    "\n",
    "#the next two blocks of code will cut down the number of 0 value records to the number of 1 value records \n",
    "# by randomingly selecting and returning records with a 0 value up to the length of total records with a 1 value\n",
    "# this will be done to both X_train and y_train\n",
    "if len(pos_index) > len(neg_index):\n",
    "    higher = pos_index\n",
    "    lower = neg_index\n",
    "else:\n",
    "    lower = pos_index\n",
    "    higher = neg_index\n",
    "\n",
    "random.seed(0)\n",
    "higher = np.random.choice(higher, size = len(lower))\n",
    "lower = np.asarray(lower)\n",
    "new_indexes = np.concatenate((lower, higher))\n",
    "\n",
    "X_train = X_train.loc[new_indexes, ]\n",
    "y_train = y_train[new_indexes]"
   ]
  },
  {
   "cell_type": "code",
   "execution_count": 32,
   "metadata": {},
   "outputs": [
    {
     "data": {
      "text/plain": [
       "1    8940\n",
       "0    8940\n",
       "Name: churn, dtype: int64"
      ]
     },
     "execution_count": 32,
     "metadata": {},
     "output_type": "execute_result"
    }
   ],
   "source": [
    "#we can now see that the values are balanced, helping us to see if the model will be working well\n",
    "y_train.value_counts()"
   ]
  },
  {
   "cell_type": "code",
   "execution_count": 33,
   "metadata": {},
   "outputs": [],
   "source": [
    "from sklearn.preprocessing import StandardScaler"
   ]
  },
  {
   "cell_type": "code",
   "execution_count": 34,
   "metadata": {},
   "outputs": [],
   "source": [
    "#scale both the training and testing set for the independent variables\n",
    "sc_X = StandardScaler()\n",
    "X_train2 = pd.DataFrame(sc_X.fit_transform(X_train))\n",
    "X_test2 = pd.DataFrame(sc_X.transform(X_test))\n",
    "\n",
    "#the column names were lost in the transformation so they need to be reassigned\n",
    "X_train2.columns = X_train.columns.values\n",
    "X_test.columns = X_test.columns.values\n",
    "\n",
    "#the same thing goes for the index\n",
    "X_train2.index = X_train.index.values\n",
    "X_test.index = X_test.index.values\n",
    "\n",
    "#reassign the names too\n",
    "X_train = X_train2\n",
    "X_test = X_test2"
   ]
  },
  {
   "cell_type": "code",
   "execution_count": 35,
   "metadata": {},
   "outputs": [
    {
     "data": {
      "text/html": [
       "<div>\n",
       "<style scoped>\n",
       "    .dataframe tbody tr th:only-of-type {\n",
       "        vertical-align: middle;\n",
       "    }\n",
       "\n",
       "    .dataframe tbody tr th {\n",
       "        vertical-align: top;\n",
       "    }\n",
       "\n",
       "    .dataframe thead th {\n",
       "        text-align: right;\n",
       "    }\n",
       "</style>\n",
       "<table border=\"1\" class=\"dataframe\">\n",
       "  <thead>\n",
       "    <tr style=\"text-align: right;\">\n",
       "      <th></th>\n",
       "      <th>age</th>\n",
       "      <th>deposits</th>\n",
       "      <th>withdrawal</th>\n",
       "      <th>purchases_partners</th>\n",
       "      <th>purchases</th>\n",
       "      <th>cc_taken</th>\n",
       "      <th>cc_recommended</th>\n",
       "      <th>cc_disliked</th>\n",
       "      <th>cc_liked</th>\n",
       "      <th>cc_application_begin</th>\n",
       "      <th>...</th>\n",
       "      <th>zodiac_sign_Cancer</th>\n",
       "      <th>zodiac_sign_Capricorn</th>\n",
       "      <th>zodiac_sign_Gemini</th>\n",
       "      <th>zodiac_sign_Leo</th>\n",
       "      <th>zodiac_sign_Libra</th>\n",
       "      <th>zodiac_sign_Pisces</th>\n",
       "      <th>zodiac_sign_Sagittarius</th>\n",
       "      <th>zodiac_sign_Scorpio</th>\n",
       "      <th>zodiac_sign_Taurus</th>\n",
       "      <th>zodiac_sign_Virgo</th>\n",
       "    </tr>\n",
       "  </thead>\n",
       "  <tbody>\n",
       "    <tr>\n",
       "      <td>11695</td>\n",
       "      <td>-0.616598</td>\n",
       "      <td>-0.361873</td>\n",
       "      <td>-0.291956</td>\n",
       "      <td>-0.603943</td>\n",
       "      <td>-0.361602</td>\n",
       "      <td>-0.168636</td>\n",
       "      <td>-0.909005</td>\n",
       "      <td>-0.059143</td>\n",
       "      <td>-0.068479</td>\n",
       "      <td>-0.566916</td>\n",
       "      <td>...</td>\n",
       "      <td>-0.313927</td>\n",
       "      <td>-0.156415</td>\n",
       "      <td>-0.294615</td>\n",
       "      <td>-0.310474</td>\n",
       "      <td>-0.291577</td>\n",
       "      <td>-0.291012</td>\n",
       "      <td>-0.291916</td>\n",
       "      <td>-0.296182</td>\n",
       "      <td>-0.295175</td>\n",
       "      <td>-0.316714</td>\n",
       "    </tr>\n",
       "    <tr>\n",
       "      <td>19766</td>\n",
       "      <td>-0.414446</td>\n",
       "      <td>-0.361873</td>\n",
       "      <td>-0.291956</td>\n",
       "      <td>-0.654428</td>\n",
       "      <td>-0.361602</td>\n",
       "      <td>-0.168636</td>\n",
       "      <td>0.321815</td>\n",
       "      <td>0.992033</td>\n",
       "      <td>-0.068479</td>\n",
       "      <td>-0.566916</td>\n",
       "      <td>...</td>\n",
       "      <td>-0.313927</td>\n",
       "      <td>-0.156415</td>\n",
       "      <td>-0.294615</td>\n",
       "      <td>-0.310474</td>\n",
       "      <td>3.429623</td>\n",
       "      <td>-0.291012</td>\n",
       "      <td>-0.291916</td>\n",
       "      <td>-0.296182</td>\n",
       "      <td>-0.295175</td>\n",
       "      <td>-0.316714</td>\n",
       "    </tr>\n",
       "    <tr>\n",
       "      <td>8354</td>\n",
       "      <td>0.293087</td>\n",
       "      <td>-0.361873</td>\n",
       "      <td>-0.291956</td>\n",
       "      <td>-0.654428</td>\n",
       "      <td>-0.361602</td>\n",
       "      <td>-0.168636</td>\n",
       "      <td>2.008493</td>\n",
       "      <td>-0.059143</td>\n",
       "      <td>-0.068479</td>\n",
       "      <td>-0.241998</td>\n",
       "      <td>...</td>\n",
       "      <td>-0.313927</td>\n",
       "      <td>-0.156415</td>\n",
       "      <td>-0.294615</td>\n",
       "      <td>-0.310474</td>\n",
       "      <td>-0.291577</td>\n",
       "      <td>-0.291012</td>\n",
       "      <td>-0.291916</td>\n",
       "      <td>-0.296182</td>\n",
       "      <td>-0.295175</td>\n",
       "      <td>3.157424</td>\n",
       "    </tr>\n",
       "    <tr>\n",
       "      <td>17883</td>\n",
       "      <td>0.596315</td>\n",
       "      <td>-0.361873</td>\n",
       "      <td>-0.291956</td>\n",
       "      <td>0.052360</td>\n",
       "      <td>-0.361602</td>\n",
       "      <td>-0.168636</td>\n",
       "      <td>-0.179630</td>\n",
       "      <td>-0.059143</td>\n",
       "      <td>-0.068479</td>\n",
       "      <td>0.001690</td>\n",
       "      <td>...</td>\n",
       "      <td>-0.313927</td>\n",
       "      <td>-0.156415</td>\n",
       "      <td>-0.294615</td>\n",
       "      <td>-0.310474</td>\n",
       "      <td>-0.291577</td>\n",
       "      <td>-0.291012</td>\n",
       "      <td>-0.291916</td>\n",
       "      <td>-0.296182</td>\n",
       "      <td>3.387819</td>\n",
       "      <td>-0.316714</td>\n",
       "    </tr>\n",
       "    <tr>\n",
       "      <td>25149</td>\n",
       "      <td>-0.818750</td>\n",
       "      <td>-0.247442</td>\n",
       "      <td>-0.291956</td>\n",
       "      <td>-0.099095</td>\n",
       "      <td>-0.244845</td>\n",
       "      <td>-0.168636</td>\n",
       "      <td>-0.578507</td>\n",
       "      <td>-0.059143</td>\n",
       "      <td>-0.068479</td>\n",
       "      <td>-0.241998</td>\n",
       "      <td>...</td>\n",
       "      <td>-0.313927</td>\n",
       "      <td>-0.156415</td>\n",
       "      <td>-0.294615</td>\n",
       "      <td>-0.310474</td>\n",
       "      <td>-0.291577</td>\n",
       "      <td>3.436280</td>\n",
       "      <td>-0.291916</td>\n",
       "      <td>-0.296182</td>\n",
       "      <td>-0.295175</td>\n",
       "      <td>-0.316714</td>\n",
       "    </tr>\n",
       "  </tbody>\n",
       "</table>\n",
       "<p>5 rows × 41 columns</p>\n",
       "</div>"
      ],
      "text/plain": [
       "            age  deposits  withdrawal  purchases_partners  purchases  \\\n",
       "11695 -0.616598 -0.361873   -0.291956           -0.603943  -0.361602   \n",
       "19766 -0.414446 -0.361873   -0.291956           -0.654428  -0.361602   \n",
       "8354   0.293087 -0.361873   -0.291956           -0.654428  -0.361602   \n",
       "17883  0.596315 -0.361873   -0.291956            0.052360  -0.361602   \n",
       "25149 -0.818750 -0.247442   -0.291956           -0.099095  -0.244845   \n",
       "\n",
       "       cc_taken  cc_recommended  cc_disliked  cc_liked  cc_application_begin  \\\n",
       "11695 -0.168636       -0.909005    -0.059143 -0.068479             -0.566916   \n",
       "19766 -0.168636        0.321815     0.992033 -0.068479             -0.566916   \n",
       "8354  -0.168636        2.008493    -0.059143 -0.068479             -0.241998   \n",
       "17883 -0.168636       -0.179630    -0.059143 -0.068479              0.001690   \n",
       "25149 -0.168636       -0.578507    -0.059143 -0.068479             -0.241998   \n",
       "\n",
       "       ...  zodiac_sign_Cancer  zodiac_sign_Capricorn  zodiac_sign_Gemini  \\\n",
       "11695  ...           -0.313927              -0.156415           -0.294615   \n",
       "19766  ...           -0.313927              -0.156415           -0.294615   \n",
       "8354   ...           -0.313927              -0.156415           -0.294615   \n",
       "17883  ...           -0.313927              -0.156415           -0.294615   \n",
       "25149  ...           -0.313927              -0.156415           -0.294615   \n",
       "\n",
       "       zodiac_sign_Leo  zodiac_sign_Libra  zodiac_sign_Pisces  \\\n",
       "11695        -0.310474          -0.291577           -0.291012   \n",
       "19766        -0.310474           3.429623           -0.291012   \n",
       "8354         -0.310474          -0.291577           -0.291012   \n",
       "17883        -0.310474          -0.291577           -0.291012   \n",
       "25149        -0.310474          -0.291577            3.436280   \n",
       "\n",
       "       zodiac_sign_Sagittarius  zodiac_sign_Scorpio  zodiac_sign_Taurus  \\\n",
       "11695                -0.291916            -0.296182           -0.295175   \n",
       "19766                -0.291916            -0.296182           -0.295175   \n",
       "8354                 -0.291916            -0.296182           -0.295175   \n",
       "17883                -0.291916            -0.296182            3.387819   \n",
       "25149                -0.291916            -0.296182           -0.295175   \n",
       "\n",
       "       zodiac_sign_Virgo  \n",
       "11695          -0.316714  \n",
       "19766          -0.316714  \n",
       "8354            3.157424  \n",
       "17883          -0.316714  \n",
       "25149          -0.316714  \n",
       "\n",
       "[5 rows x 41 columns]"
      ]
     },
     "execution_count": 35,
     "metadata": {},
     "output_type": "execute_result"
    }
   ],
   "source": [
    "X_train.head()"
   ]
  },
  {
   "cell_type": "markdown",
   "metadata": {},
   "source": [
    "The distribution of y values is now balanced and the values for the independent variables are now scaled, meaning that no one variable will have a disproportionate effect on the model"
   ]
  },
  {
   "cell_type": "code",
   "execution_count": 36,
   "metadata": {},
   "outputs": [
    {
     "data": {
      "text/plain": [
       "LogisticRegression(C=1.0, class_weight=None, dual=False, fit_intercept=True,\n",
       "                   intercept_scaling=1, l1_ratio=None, max_iter=100,\n",
       "                   multi_class='warn', n_jobs=None, penalty='l2',\n",
       "                   random_state=0, solver='warn', tol=0.0001, verbose=0,\n",
       "                   warm_start=False)"
      ]
     },
     "execution_count": 36,
     "metadata": {},
     "output_type": "execute_result"
    }
   ],
   "source": [
    "from sklearn.linear_model import LogisticRegression\n",
    "classifier = LogisticRegression(random_state= 0)\n",
    "classifier.fit(X_train, y_train)"
   ]
  },
  {
   "cell_type": "code",
   "execution_count": 37,
   "metadata": {},
   "outputs": [],
   "source": [
    "y_pred = classifier.predict(X_test)"
   ]
  },
  {
   "cell_type": "code",
   "execution_count": 38,
   "metadata": {},
   "outputs": [],
   "source": [
    "from sklearn.metrics import confusion_matrix, accuracy_score, f1_score, precision_score, recall_score"
   ]
  },
  {
   "cell_type": "code",
   "execution_count": 39,
   "metadata": {},
   "outputs": [],
   "source": [
    "cm = confusion_matrix(y_test, y_pred)"
   ]
  },
  {
   "cell_type": "code",
   "execution_count": 40,
   "metadata": {},
   "outputs": [
    {
     "data": {
      "text/plain": [
       "0.6125925925925926"
      ]
     },
     "execution_count": 40,
     "metadata": {},
     "output_type": "execute_result"
    }
   ],
   "source": [
    "accuracy_score(y_test, y_pred)"
   ]
  },
  {
   "cell_type": "code",
   "execution_count": 41,
   "metadata": {},
   "outputs": [
    {
     "data": {
      "text/plain": [
       "0.5224683544303798"
      ]
     },
     "execution_count": 41,
     "metadata": {},
     "output_type": "execute_result"
    }
   ],
   "source": [
    "#out of all the predicted positves the model got about half of them right. Not that good\n",
    "precision_score(y_test, y_pred)"
   ]
  },
  {
   "cell_type": "code",
   "execution_count": 42,
   "metadata": {},
   "outputs": [
    {
     "data": {
      "text/plain": [
       "0.7390331244404655"
      ]
     },
     "execution_count": 42,
     "metadata": {},
     "output_type": "execute_result"
    }
   ],
   "source": [
    "#out of all the actual positives that exist, how many did the model predict as true\n",
    "recall_score(y_test, y_pred)"
   ]
  },
  {
   "cell_type": "code",
   "execution_count": 43,
   "metadata": {},
   "outputs": [
    {
     "data": {
      "text/plain": [
       "0.6121616611049314"
      ]
     },
     "execution_count": 43,
     "metadata": {},
     "output_type": "execute_result"
    }
   ],
   "source": [
    "f1_score(y_test, y_pred)"
   ]
  },
  {
   "cell_type": "code",
   "execution_count": 44,
   "metadata": {},
   "outputs": [
    {
     "name": "stdout",
     "output_type": "stream",
     "text": [
      "Test Data Accuracy: 0.6126\n"
     ]
    },
    {
     "data": {
      "image/png": "[encoded data removed]",
      "text/plain": [
       "<Figure size 864x720 with 2 Axes>"
      ]
     },
     "metadata": {},
     "output_type": "display_data"
    }
   ],
   "source": [
    "# let's create a heatmap to visualize what happened in the classification\n",
    "\n",
    "df_cm = pd.DataFrame(cm, index = (0, 1), columns = (0, 1))\n",
    "plt.figure(figsize = (12, 10))\n",
    "sb.set(font_scale=1.4)\n",
    "sb.heatmap(df_cm, annot= True, fmt= 'g')\n",
    "print(\"Test Data Accuracy: %0.4f\" % accuracy_score(y_test, y_pred))"
   ]
  },
  {
   "cell_type": "code",
   "execution_count": 45,
   "metadata": {},
   "outputs": [],
   "source": [
    "from sklearn.model_selection import cross_val_score"
   ]
  },
  {
   "cell_type": "code",
   "execution_count": 46,
   "metadata": {},
   "outputs": [],
   "source": [
    "accuracies = cross_val_score(estimator= classifier,\n",
    "                             X = X_train,\n",
    "                             y = y_train,\n",
    "                             cv = 10)"
   ]
  },
  {
   "cell_type": "code",
   "execution_count": 47,
   "metadata": {},
   "outputs": [
    {
     "data": {
      "text/plain": [
       "array([0.63087248, 0.63478747, 0.651566  , 0.63199105, 0.65548098,\n",
       "       0.63478747, 0.63422819, 0.63870246, 0.64373602, 0.65715884])"
      ]
     },
     "execution_count": 47,
     "metadata": {},
     "output_type": "execute_result"
    }
   ],
   "source": [
    "#the predictions across each k fold are fairly consistent\n",
    "accuracies"
   ]
  },
  {
   "cell_type": "code",
   "execution_count": 48,
   "metadata": {},
   "outputs": [
    {
     "name": "stdout",
     "output_type": "stream",
     "text": [
      "Average Accuracy:  0.641\n",
      "Standard Deviation:  0.009\n"
     ]
    }
   ],
   "source": [
    "print('Average Accuracy: ', round(accuracies.mean(), 3))\n",
    "print('Standard Deviation: ', round(accuracies.std(),3))"
   ]
  },
  {
   "cell_type": "code",
   "execution_count": 49,
   "metadata": {},
   "outputs": [
    {
     "data": {
      "text/html": [
       "<div>\n",
       "<style scoped>\n",
       "    .dataframe tbody tr th:only-of-type {\n",
       "        vertical-align: middle;\n",
       "    }\n",
       "\n",
       "    .dataframe tbody tr th {\n",
       "        vertical-align: top;\n",
       "    }\n",
       "\n",
       "    .dataframe thead th {\n",
       "        text-align: right;\n",
       "    }\n",
       "</style>\n",
       "<table border=\"1\" class=\"dataframe\">\n",
       "  <thead>\n",
       "    <tr style=\"text-align: right;\">\n",
       "      <th></th>\n",
       "      <th>features</th>\n",
       "      <th>coef</th>\n",
       "    </tr>\n",
       "  </thead>\n",
       "  <tbody>\n",
       "    <tr>\n",
       "      <td>0</td>\n",
       "      <td>age</td>\n",
       "      <td>-0.155118</td>\n",
       "    </tr>\n",
       "    <tr>\n",
       "      <td>1</td>\n",
       "      <td>deposits</td>\n",
       "      <td>0.239060</td>\n",
       "    </tr>\n",
       "    <tr>\n",
       "      <td>2</td>\n",
       "      <td>withdrawal</td>\n",
       "      <td>0.026850</td>\n",
       "    </tr>\n",
       "    <tr>\n",
       "      <td>3</td>\n",
       "      <td>purchases_partners</td>\n",
       "      <td>-0.666507</td>\n",
       "    </tr>\n",
       "    <tr>\n",
       "      <td>4</td>\n",
       "      <td>purchases</td>\n",
       "      <td>-0.368149</td>\n",
       "    </tr>\n",
       "    <tr>\n",
       "      <td>5</td>\n",
       "      <td>cc_taken</td>\n",
       "      <td>0.118483</td>\n",
       "    </tr>\n",
       "    <tr>\n",
       "      <td>6</td>\n",
       "      <td>cc_recommended</td>\n",
       "      <td>0.052180</td>\n",
       "    </tr>\n",
       "    <tr>\n",
       "      <td>7</td>\n",
       "      <td>cc_disliked</td>\n",
       "      <td>-0.024783</td>\n",
       "    </tr>\n",
       "    <tr>\n",
       "      <td>8</td>\n",
       "      <td>cc_liked</td>\n",
       "      <td>-0.014638</td>\n",
       "    </tr>\n",
       "    <tr>\n",
       "      <td>9</td>\n",
       "      <td>cc_application_begin</td>\n",
       "      <td>0.033988</td>\n",
       "    </tr>\n",
       "    <tr>\n",
       "      <td>10</td>\n",
       "      <td>app_downloaded</td>\n",
       "      <td>-0.015457</td>\n",
       "    </tr>\n",
       "    <tr>\n",
       "      <td>11</td>\n",
       "      <td>web_user</td>\n",
       "      <td>0.122865</td>\n",
       "    </tr>\n",
       "    <tr>\n",
       "      <td>12</td>\n",
       "      <td>ios_user</td>\n",
       "      <td>0.089179</td>\n",
       "    </tr>\n",
       "    <tr>\n",
       "      <td>13</td>\n",
       "      <td>android_user</td>\n",
       "      <td>0.013986</td>\n",
       "    </tr>\n",
       "    <tr>\n",
       "      <td>14</td>\n",
       "      <td>registered_phones</td>\n",
       "      <td>0.082593</td>\n",
       "    </tr>\n",
       "    <tr>\n",
       "      <td>15</td>\n",
       "      <td>waiting_4_loan</td>\n",
       "      <td>-0.055846</td>\n",
       "    </tr>\n",
       "    <tr>\n",
       "      <td>16</td>\n",
       "      <td>cancelled_loan</td>\n",
       "      <td>0.064795</td>\n",
       "    </tr>\n",
       "    <tr>\n",
       "      <td>17</td>\n",
       "      <td>received_loan</td>\n",
       "      <td>0.109869</td>\n",
       "    </tr>\n",
       "    <tr>\n",
       "      <td>18</td>\n",
       "      <td>rejected_loan</td>\n",
       "      <td>0.114668</td>\n",
       "    </tr>\n",
       "    <tr>\n",
       "      <td>19</td>\n",
       "      <td>left_for_two_month_plus</td>\n",
       "      <td>0.034123</td>\n",
       "    </tr>\n",
       "    <tr>\n",
       "      <td>20</td>\n",
       "      <td>left_for_one_month</td>\n",
       "      <td>0.053010</td>\n",
       "    </tr>\n",
       "    <tr>\n",
       "      <td>21</td>\n",
       "      <td>reward_rate</td>\n",
       "      <td>-0.208572</td>\n",
       "    </tr>\n",
       "    <tr>\n",
       "      <td>22</td>\n",
       "      <td>is_referred</td>\n",
       "      <td>-0.001016</td>\n",
       "    </tr>\n",
       "    <tr>\n",
       "      <td>23</td>\n",
       "      <td>housing_O</td>\n",
       "      <td>-0.043182</td>\n",
       "    </tr>\n",
       "    <tr>\n",
       "      <td>24</td>\n",
       "      <td>housing_R</td>\n",
       "      <td>0.027947</td>\n",
       "    </tr>\n",
       "    <tr>\n",
       "      <td>25</td>\n",
       "      <td>payment_type_Bi-Weekly</td>\n",
       "      <td>-0.053450</td>\n",
       "    </tr>\n",
       "    <tr>\n",
       "      <td>26</td>\n",
       "      <td>payment_type_Monthly</td>\n",
       "      <td>-0.009841</td>\n",
       "    </tr>\n",
       "    <tr>\n",
       "      <td>27</td>\n",
       "      <td>payment_type_Semi-Monthly</td>\n",
       "      <td>-0.034541</td>\n",
       "    </tr>\n",
       "    <tr>\n",
       "      <td>28</td>\n",
       "      <td>payment_type_Weekly</td>\n",
       "      <td>0.058463</td>\n",
       "    </tr>\n",
       "    <tr>\n",
       "      <td>29</td>\n",
       "      <td>zodiac_sign_Aquarius</td>\n",
       "      <td>-0.027654</td>\n",
       "    </tr>\n",
       "    <tr>\n",
       "      <td>30</td>\n",
       "      <td>zodiac_sign_Aries</td>\n",
       "      <td>0.005690</td>\n",
       "    </tr>\n",
       "    <tr>\n",
       "      <td>31</td>\n",
       "      <td>zodiac_sign_Cancer</td>\n",
       "      <td>-0.006913</td>\n",
       "    </tr>\n",
       "    <tr>\n",
       "      <td>32</td>\n",
       "      <td>zodiac_sign_Capricorn</td>\n",
       "      <td>0.034295</td>\n",
       "    </tr>\n",
       "    <tr>\n",
       "      <td>33</td>\n",
       "      <td>zodiac_sign_Gemini</td>\n",
       "      <td>-0.024646</td>\n",
       "    </tr>\n",
       "    <tr>\n",
       "      <td>34</td>\n",
       "      <td>zodiac_sign_Leo</td>\n",
       "      <td>-0.009501</td>\n",
       "    </tr>\n",
       "    <tr>\n",
       "      <td>35</td>\n",
       "      <td>zodiac_sign_Libra</td>\n",
       "      <td>-0.011108</td>\n",
       "    </tr>\n",
       "    <tr>\n",
       "      <td>36</td>\n",
       "      <td>zodiac_sign_Pisces</td>\n",
       "      <td>0.023039</td>\n",
       "    </tr>\n",
       "    <tr>\n",
       "      <td>37</td>\n",
       "      <td>zodiac_sign_Sagittarius</td>\n",
       "      <td>-0.013814</td>\n",
       "    </tr>\n",
       "    <tr>\n",
       "      <td>38</td>\n",
       "      <td>zodiac_sign_Scorpio</td>\n",
       "      <td>-0.032184</td>\n",
       "    </tr>\n",
       "    <tr>\n",
       "      <td>39</td>\n",
       "      <td>zodiac_sign_Taurus</td>\n",
       "      <td>-0.003983</td>\n",
       "    </tr>\n",
       "    <tr>\n",
       "      <td>40</td>\n",
       "      <td>zodiac_sign_Virgo</td>\n",
       "      <td>-0.006129</td>\n",
       "    </tr>\n",
       "  </tbody>\n",
       "</table>\n",
       "</div>"
      ],
      "text/plain": [
       "                     features      coef\n",
       "0                         age -0.155118\n",
       "1                    deposits  0.239060\n",
       "2                  withdrawal  0.026850\n",
       "3          purchases_partners -0.666507\n",
       "4                   purchases -0.368149\n",
       "5                    cc_taken  0.118483\n",
       "6              cc_recommended  0.052180\n",
       "7                 cc_disliked -0.024783\n",
       "8                    cc_liked -0.014638\n",
       "9        cc_application_begin  0.033988\n",
       "10             app_downloaded -0.015457\n",
       "11                   web_user  0.122865\n",
       "12                   ios_user  0.089179\n",
       "13               android_user  0.013986\n",
       "14          registered_phones  0.082593\n",
       "15             waiting_4_loan -0.055846\n",
       "16             cancelled_loan  0.064795\n",
       "17              received_loan  0.109869\n",
       "18              rejected_loan  0.114668\n",
       "19    left_for_two_month_plus  0.034123\n",
       "20         left_for_one_month  0.053010\n",
       "21                reward_rate -0.208572\n",
       "22                is_referred -0.001016\n",
       "23                  housing_O -0.043182\n",
       "24                  housing_R  0.027947\n",
       "25     payment_type_Bi-Weekly -0.053450\n",
       "26       payment_type_Monthly -0.009841\n",
       "27  payment_type_Semi-Monthly -0.034541\n",
       "28        payment_type_Weekly  0.058463\n",
       "29       zodiac_sign_Aquarius -0.027654\n",
       "30          zodiac_sign_Aries  0.005690\n",
       "31         zodiac_sign_Cancer -0.006913\n",
       "32      zodiac_sign_Capricorn  0.034295\n",
       "33         zodiac_sign_Gemini -0.024646\n",
       "34            zodiac_sign_Leo -0.009501\n",
       "35          zodiac_sign_Libra -0.011108\n",
       "36         zodiac_sign_Pisces  0.023039\n",
       "37    zodiac_sign_Sagittarius -0.013814\n",
       "38        zodiac_sign_Scorpio -0.032184\n",
       "39         zodiac_sign_Taurus -0.003983\n",
       "40          zodiac_sign_Virgo -0.006129"
      ]
     },
     "execution_count": 49,
     "metadata": {},
     "output_type": "execute_result"
    }
   ],
   "source": [
    "#let's try to see which field are the most important in predicting the target variable\n",
    "pd.concat([pd.DataFrame(X_train.columns, columns = [\"features\"]),\n",
    "            pd.DataFrame(np.transpose(classifier.coef_), columns= [\"coef\"])],\n",
    "         axis = 1)"
   ]
  },
  {
   "cell_type": "markdown",
   "metadata": {},
   "source": [
    "With about forty features we can see that there are multiple coefficients that have little sway in the model. We can use some feature selection here to make the model more \"potent\" in predicting customer churn."
   ]
  },
  {
   "cell_type": "code",
   "execution_count": 50,
   "metadata": {},
   "outputs": [],
   "source": [
    "#we can use Recursive Feature Elimination to shave down some of the extraneous features in this data set\n",
    "from sklearn.feature_selection import RFE"
   ]
  },
  {
   "cell_type": "code",
   "execution_count": 51,
   "metadata": {},
   "outputs": [],
   "source": [
    "#we will choose the top 20 most important features\n",
    "classifier = LogisticRegression()\n",
    "rfe = RFE(classifier, 20)"
   ]
  },
  {
   "cell_type": "code",
   "execution_count": 52,
   "metadata": {},
   "outputs": [],
   "source": [
    "rfe = rfe.fit(X_train, y_train)"
   ]
  },
  {
   "cell_type": "code",
   "execution_count": 53,
   "metadata": {},
   "outputs": [
    {
     "name": "stdout",
     "output_type": "stream",
     "text": [
      "[ True  True False  True  True  True  True False False  True False  True\n",
      "  True False  True  True  True  True  True False  True  True False  True\n",
      " False False False False  True False False False  True False False False\n",
      "  True False False False False]\n"
     ]
    }
   ],
   "source": [
    "print(rfe.support_)"
   ]
  },
  {
   "cell_type": "code",
   "execution_count": 54,
   "metadata": {},
   "outputs": [
    {
     "data": {
      "text/plain": [
       "Index(['age', 'deposits', 'purchases_partners', 'purchases', 'cc_taken',\n",
       "       'cc_recommended', 'cc_application_begin', 'web_user', 'ios_user',\n",
       "       'registered_phones', 'waiting_4_loan', 'cancelled_loan',\n",
       "       'received_loan', 'rejected_loan', 'left_for_one_month', 'reward_rate',\n",
       "       'housing_O', 'payment_type_Weekly', 'zodiac_sign_Capricorn',\n",
       "       'zodiac_sign_Pisces'],\n",
       "      dtype='object')"
      ]
     },
     "execution_count": 54,
     "metadata": {},
     "output_type": "execute_result"
    }
   ],
   "source": [
    "#these are the 20 fields that the model thought was the best predictor\n",
    "X_train.columns[rfe.support_]"
   ]
  },
  {
   "cell_type": "code",
   "execution_count": 55,
   "metadata": {},
   "outputs": [
    {
     "data": {
      "text/plain": [
       "array([ 1,  1,  7,  1,  1,  1,  1,  6, 13,  1, 11,  1,  1, 12,  1,  1,  1,\n",
       "        1,  1,  2,  1,  1, 22,  1,  5,  3, 15,  4,  1,  9, 14, 19,  1, 10,\n",
       "       18, 17,  1, 16,  8, 21, 20])"
      ]
     },
     "execution_count": 55,
     "metadata": {},
     "output_type": "execute_result"
    }
   ],
   "source": [
    "# all columns with the number 1 are part of the twenty that were thought to be important enough to include\n",
    "# number 2 is the 21st most important while 3 is the 22nd most important and so on\n",
    "rfe.ranking_"
   ]
  },
  {
   "cell_type": "code",
   "execution_count": 56,
   "metadata": {},
   "outputs": [],
   "source": [
    "from sklearn.linear_model import LogisticRegression\n",
    "classifier = LogisticRegression(random_state= 0)\n",
    "classifier.fit(X_train[X_train.columns[rfe.support_]], y_train)\n",
    "\n",
    "y_pred = classifier.predict(X_test[X_test.columns[rfe.support_]])"
   ]
  },
  {
   "cell_type": "code",
   "execution_count": 57,
   "metadata": {},
   "outputs": [
    {
     "name": "stdout",
     "output_type": "stream",
     "text": [
      "Accuracy score:  0.6103703703703703\n",
      "Precision score:  0.5205306380290587\n",
      "Recall score:  0.7376902417188899\n",
      "F1 score:  0.6103703703703703\n"
     ]
    }
   ],
   "source": [
    "from sklearn.metrics import confusion_matrix, accuracy_score, f1_score, precision_score, recall_score\n",
    "cm = confusion_matrix(y_test, y_pred)\n",
    "print(\"Accuracy score: \", accuracy_score(y_test, y_pred))\n",
    "print(\"Precision score: \", precision_score(y_test, y_pred))\n",
    "print(\"Recall score: \", recall_score(y_test, y_pred))\n",
    "print(\"F1 score: \", f1_score(y_test, y_pred))"
   ]
  },
  {
   "cell_type": "markdown",
   "metadata": {},
   "source": [
    "We can see that basically the model is the same in its predictive power"
   ]
  },
  {
   "cell_type": "code",
   "execution_count": 58,
   "metadata": {},
   "outputs": [
    {
     "name": "stdout",
     "output_type": "stream",
     "text": [
      "Test Data Accuracy: 0.6104\n"
     ]
    },
    {
     "data": {
      "image/png": "[encoded data removed]",
      "text/plain": [
       "<Figure size 720x504 with 2 Axes>"
      ]
     },
     "metadata": {},
     "output_type": "display_data"
    }
   ],
   "source": [
    "df_cm = pd.DataFrame(cm, index = (0, 1), columns = (0, 1))\n",
    "plt.figure(figsize = (10, 7))\n",
    "sb.set(font_scale=1.4)\n",
    "sb.heatmap(df_cm, annot= True, fmt= 'g')\n",
    "print(\"Test Data Accuracy: %0.4f\" % accuracy_score(y_test, y_pred))"
   ]
  },
  {
   "cell_type": "markdown",
   "metadata": {},
   "source": [
    "In addition to making this model more lightwight with a similar accuracy we have gained greater insight on the data as a whole. RFE has helped us to see what the most import fields for predictive power. This knowledge can help us with future data projects when trying to figure out which KPIs will be important predictors. Over time recursive feature elimination will shape our intuitions about relationships in data."
   ]
  },
  {
   "cell_type": "code",
   "execution_count": 59,
   "metadata": {},
   "outputs": [
    {
     "data": {
      "text/html": [
       "<div>\n",
       "<style scoped>\n",
       "    .dataframe tbody tr th:only-of-type {\n",
       "        vertical-align: middle;\n",
       "    }\n",
       "\n",
       "    .dataframe tbody tr th {\n",
       "        vertical-align: top;\n",
       "    }\n",
       "\n",
       "    .dataframe thead th {\n",
       "        text-align: right;\n",
       "    }\n",
       "</style>\n",
       "<table border=\"1\" class=\"dataframe\">\n",
       "  <thead>\n",
       "    <tr style=\"text-align: right;\">\n",
       "      <th></th>\n",
       "      <th>features</th>\n",
       "      <th>coef</th>\n",
       "    </tr>\n",
       "  </thead>\n",
       "  <tbody>\n",
       "    <tr>\n",
       "      <td>0</td>\n",
       "      <td>age</td>\n",
       "      <td>-0.152971</td>\n",
       "    </tr>\n",
       "    <tr>\n",
       "      <td>1</td>\n",
       "      <td>deposits</td>\n",
       "      <td>0.248991</td>\n",
       "    </tr>\n",
       "    <tr>\n",
       "      <td>2</td>\n",
       "      <td>purchases_partners</td>\n",
       "      <td>-0.654100</td>\n",
       "    </tr>\n",
       "    <tr>\n",
       "      <td>3</td>\n",
       "      <td>purchases</td>\n",
       "      <td>-0.362654</td>\n",
       "    </tr>\n",
       "    <tr>\n",
       "      <td>4</td>\n",
       "      <td>cc_taken</td>\n",
       "      <td>0.110769</td>\n",
       "    </tr>\n",
       "    <tr>\n",
       "      <td>5</td>\n",
       "      <td>cc_recommended</td>\n",
       "      <td>0.055074</td>\n",
       "    </tr>\n",
       "    <tr>\n",
       "      <td>6</td>\n",
       "      <td>cc_application_begin</td>\n",
       "      <td>0.037003</td>\n",
       "    </tr>\n",
       "    <tr>\n",
       "      <td>7</td>\n",
       "      <td>web_user</td>\n",
       "      <td>0.127602</td>\n",
       "    </tr>\n",
       "    <tr>\n",
       "      <td>8</td>\n",
       "      <td>ios_user</td>\n",
       "      <td>0.074750</td>\n",
       "    </tr>\n",
       "    <tr>\n",
       "      <td>9</td>\n",
       "      <td>registered_phones</td>\n",
       "      <td>0.086678</td>\n",
       "    </tr>\n",
       "    <tr>\n",
       "      <td>10</td>\n",
       "      <td>waiting_4_loan</td>\n",
       "      <td>-0.055985</td>\n",
       "    </tr>\n",
       "    <tr>\n",
       "      <td>11</td>\n",
       "      <td>cancelled_loan</td>\n",
       "      <td>0.064731</td>\n",
       "    </tr>\n",
       "    <tr>\n",
       "      <td>12</td>\n",
       "      <td>received_loan</td>\n",
       "      <td>0.108433</td>\n",
       "    </tr>\n",
       "    <tr>\n",
       "      <td>13</td>\n",
       "      <td>rejected_loan</td>\n",
       "      <td>0.115364</td>\n",
       "    </tr>\n",
       "    <tr>\n",
       "      <td>14</td>\n",
       "      <td>left_for_one_month</td>\n",
       "      <td>0.055390</td>\n",
       "    </tr>\n",
       "    <tr>\n",
       "      <td>15</td>\n",
       "      <td>reward_rate</td>\n",
       "      <td>-0.210296</td>\n",
       "    </tr>\n",
       "    <tr>\n",
       "      <td>16</td>\n",
       "      <td>housing_O</td>\n",
       "      <td>-0.051520</td>\n",
       "    </tr>\n",
       "    <tr>\n",
       "      <td>17</td>\n",
       "      <td>payment_type_Weekly</td>\n",
       "      <td>0.092021</td>\n",
       "    </tr>\n",
       "    <tr>\n",
       "      <td>18</td>\n",
       "      <td>zodiac_sign_Capricorn</td>\n",
       "      <td>0.041246</td>\n",
       "    </tr>\n",
       "    <tr>\n",
       "      <td>19</td>\n",
       "      <td>zodiac_sign_Pisces</td>\n",
       "      <td>0.034425</td>\n",
       "    </tr>\n",
       "  </tbody>\n",
       "</table>\n",
       "</div>"
      ],
      "text/plain": [
       "                 features      coef\n",
       "0                     age -0.152971\n",
       "1                deposits  0.248991\n",
       "2      purchases_partners -0.654100\n",
       "3               purchases -0.362654\n",
       "4                cc_taken  0.110769\n",
       "5          cc_recommended  0.055074\n",
       "6    cc_application_begin  0.037003\n",
       "7                web_user  0.127602\n",
       "8                ios_user  0.074750\n",
       "9       registered_phones  0.086678\n",
       "10         waiting_4_loan -0.055985\n",
       "11         cancelled_loan  0.064731\n",
       "12          received_loan  0.108433\n",
       "13          rejected_loan  0.115364\n",
       "14     left_for_one_month  0.055390\n",
       "15            reward_rate -0.210296\n",
       "16              housing_O -0.051520\n",
       "17    payment_type_Weekly  0.092021\n",
       "18  zodiac_sign_Capricorn  0.041246\n",
       "19     zodiac_sign_Pisces  0.034425"
      ]
     },
     "execution_count": 59,
     "metadata": {},
     "output_type": "execute_result"
    }
   ],
   "source": [
    "pd.concat([pd.DataFrame(X_train.columns[rfe.support_], columns = [\"features\"]),\n",
    "            pd.DataFrame(np.transpose(classifier.coef_), columns= [\"coef\"])],\n",
    "         axis = 1)"
   ]
  },
  {
   "cell_type": "code",
   "execution_count": 60,
   "metadata": {},
   "outputs": [],
   "source": [
    "final_results = pd.concat([y_test, user_identifier], axis = 1).dropna()\n",
    "final_results[\"predicted_churn\"] = y_pred\n",
    "final_results = final_results[['user', 'churn', 'predicted_churn']].reset_index(drop= True)"
   ]
  },
  {
   "cell_type": "code",
   "execution_count": 61,
   "metadata": {},
   "outputs": [
    {
     "data": {
      "text/html": [
       "<div>\n",
       "<style scoped>\n",
       "    .dataframe tbody tr th:only-of-type {\n",
       "        vertical-align: middle;\n",
       "    }\n",
       "\n",
       "    .dataframe tbody tr th {\n",
       "        vertical-align: top;\n",
       "    }\n",
       "\n",
       "    .dataframe thead th {\n",
       "        text-align: right;\n",
       "    }\n",
       "</style>\n",
       "<table border=\"1\" class=\"dataframe\">\n",
       "  <thead>\n",
       "    <tr style=\"text-align: right;\">\n",
       "      <th></th>\n",
       "      <th>user</th>\n",
       "      <th>churn</th>\n",
       "      <th>predicted_churn</th>\n",
       "    </tr>\n",
       "  </thead>\n",
       "  <tbody>\n",
       "    <tr>\n",
       "      <td>0</td>\n",
       "      <td>61353</td>\n",
       "      <td>1.0</td>\n",
       "      <td>1</td>\n",
       "    </tr>\n",
       "    <tr>\n",
       "      <td>1</td>\n",
       "      <td>67679</td>\n",
       "      <td>0.0</td>\n",
       "      <td>0</td>\n",
       "    </tr>\n",
       "    <tr>\n",
       "      <td>2</td>\n",
       "      <td>21269</td>\n",
       "      <td>0.0</td>\n",
       "      <td>0</td>\n",
       "    </tr>\n",
       "    <tr>\n",
       "      <td>3</td>\n",
       "      <td>69531</td>\n",
       "      <td>0.0</td>\n",
       "      <td>1</td>\n",
       "    </tr>\n",
       "    <tr>\n",
       "      <td>4</td>\n",
       "      <td>25997</td>\n",
       "      <td>0.0</td>\n",
       "      <td>0</td>\n",
       "    </tr>\n",
       "    <tr>\n",
       "      <td>...</td>\n",
       "      <td>...</td>\n",
       "      <td>...</td>\n",
       "      <td>...</td>\n",
       "    </tr>\n",
       "    <tr>\n",
       "      <td>5395</td>\n",
       "      <td>22377</td>\n",
       "      <td>0.0</td>\n",
       "      <td>1</td>\n",
       "    </tr>\n",
       "    <tr>\n",
       "      <td>5396</td>\n",
       "      <td>24291</td>\n",
       "      <td>1.0</td>\n",
       "      <td>1</td>\n",
       "    </tr>\n",
       "    <tr>\n",
       "      <td>5397</td>\n",
       "      <td>23740</td>\n",
       "      <td>0.0</td>\n",
       "      <td>1</td>\n",
       "    </tr>\n",
       "    <tr>\n",
       "      <td>5398</td>\n",
       "      <td>47663</td>\n",
       "      <td>1.0</td>\n",
       "      <td>0</td>\n",
       "    </tr>\n",
       "    <tr>\n",
       "      <td>5399</td>\n",
       "      <td>52752</td>\n",
       "      <td>1.0</td>\n",
       "      <td>1</td>\n",
       "    </tr>\n",
       "  </tbody>\n",
       "</table>\n",
       "<p>5400 rows × 3 columns</p>\n",
       "</div>"
      ],
      "text/plain": [
       "       user  churn  predicted_churn\n",
       "0     61353    1.0                1\n",
       "1     67679    0.0                0\n",
       "2     21269    0.0                0\n",
       "3     69531    0.0                1\n",
       "4     25997    0.0                0\n",
       "...     ...    ...              ...\n",
       "5395  22377    0.0                1\n",
       "5396  24291    1.0                1\n",
       "5397  23740    0.0                1\n",
       "5398  47663    1.0                0\n",
       "5399  52752    1.0                1\n",
       "\n",
       "[5400 rows x 3 columns]"
      ]
     },
     "execution_count": 61,
     "metadata": {},
     "output_type": "execute_result"
    }
   ],
   "source": [
    "final_results"
   ]
  },
  {
   "cell_type": "markdown",
   "metadata": {},
   "source": [
    "This project has helped us to see people who are more likely to churn. The metrics have shown accuracies of around 60% which is pretty good for real world data. \n",
    "\n",
    "Slimmed down the model with recursive feature elimination also helps the model will to run faster. In this situation this did not affect the speed significantly. However, this can be a very useful method when dealing with datasets with hundreds of features or if a deep learning model was used instead.\n",
    "\n",
    "This type of information can help businesses to know not only which customers will churn but also which people are likely to churn, giving stakeholders an opportunity to target customers for marketing. It would also be a good idea to conduct some additional research to find out what customers want or find lacking in the subscription service."
   ]
  },
  {
   "cell_type": "code",
   "execution_count": null,
   "metadata": {},
   "outputs": [],
   "source": []
  }
 ],
 "metadata": {
  "kernelspec": {
   "display_name": "Python 3",
   "language": "python",
   "name": "python3"
  },
  "language_info": {
   "codemirror_mode": {
    "name": "ipython",
    "version": 3
   },
   "file_extension": ".py",
   "mimetype": "text/x-python",
   "name": "python",
   "nbconvert_exporter": "python",
   "pygments_lexer": "ipython3",
   "version": "3.7.1"
  }
 },
 "nbformat": 4,
 "nbformat_minor": 2
}
